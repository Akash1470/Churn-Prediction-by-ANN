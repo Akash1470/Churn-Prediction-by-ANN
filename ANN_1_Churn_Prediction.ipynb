{
 "cells": [
  {
   "cell_type": "code",
   "execution_count": null,
   "metadata": {
    "id": "XYknQr0RGMHn"
   },
   "outputs": [],
   "source": []
  },
  {
   "cell_type": "code",
   "execution_count": null,
   "metadata": {
    "colab": {
     "base_uri": "https://localhost:8080/"
    },
    "id": "_Vuw0o5uHPXV",
    "outputId": "956f7941-a1aa-4b15-f2c0-0a3be66641b3"
   },
   "outputs": [
    {
     "name": "stdout",
     "output_type": "stream",
     "text": [
      "Looking in indexes: https://pypi.org/simple, https://us-python.pkg.dev/colab-wheels/public/simple/\n",
      "Collecting tensorflow-gpu\n",
      "  Downloading tensorflow_gpu-2.11.0-cp38-cp38-manylinux_2_17_x86_64.manylinux2014_x86_64.whl (588.3 MB)\n",
      "\u001b[K     |████████████████████████████████| 588.3 MB 21 kB/s \n",
      "\u001b[?25hRequirement already satisfied: libclang>=13.0.0 in /usr/local/lib/python3.8/dist-packages (from tensorflow-gpu) (14.0.6)\n",
      "Collecting flatbuffers>=2.0\n",
      "  Downloading flatbuffers-22.12.6-py2.py3-none-any.whl (26 kB)\n",
      "Requirement already satisfied: six>=1.12.0 in /usr/local/lib/python3.8/dist-packages (from tensorflow-gpu) (1.15.0)\n",
      "Collecting tensorboard<2.12,>=2.11\n",
      "  Downloading tensorboard-2.11.0-py3-none-any.whl (6.0 MB)\n",
      "\u001b[K     |████████████████████████████████| 6.0 MB 53.6 MB/s \n",
      "\u001b[?25hRequirement already satisfied: google-pasta>=0.1.1 in /usr/local/lib/python3.8/dist-packages (from tensorflow-gpu) (0.2.0)\n",
      "Requirement already satisfied: packaging in /usr/local/lib/python3.8/dist-packages (from tensorflow-gpu) (21.3)\n",
      "Requirement already satisfied: gast<=0.4.0,>=0.2.1 in /usr/local/lib/python3.8/dist-packages (from tensorflow-gpu) (0.4.0)\n",
      "Requirement already satisfied: absl-py>=1.0.0 in /usr/local/lib/python3.8/dist-packages (from tensorflow-gpu) (1.3.0)\n",
      "Requirement already satisfied: astunparse>=1.6.0 in /usr/local/lib/python3.8/dist-packages (from tensorflow-gpu) (1.6.3)\n",
      "Requirement already satisfied: setuptools in /usr/local/lib/python3.8/dist-packages (from tensorflow-gpu) (57.4.0)\n",
      "Requirement already satisfied: wrapt>=1.11.0 in /usr/local/lib/python3.8/dist-packages (from tensorflow-gpu) (1.14.1)\n",
      "Collecting tensorflow-estimator<2.12,>=2.11.0\n",
      "  Downloading tensorflow_estimator-2.11.0-py2.py3-none-any.whl (439 kB)\n",
      "\u001b[K     |████████████████████████████████| 439 kB 80.0 MB/s \n",
      "\u001b[?25hCollecting keras<2.12,>=2.11.0\n",
      "  Downloading keras-2.11.0-py2.py3-none-any.whl (1.7 MB)\n",
      "\u001b[K     |████████████████████████████████| 1.7 MB 55.9 MB/s \n",
      "\u001b[?25hRequirement already satisfied: protobuf<3.20,>=3.9.2 in /usr/local/lib/python3.8/dist-packages (from tensorflow-gpu) (3.19.6)\n",
      "Requirement already satisfied: numpy>=1.20 in /usr/local/lib/python3.8/dist-packages (from tensorflow-gpu) (1.21.6)\n",
      "Requirement already satisfied: typing-extensions>=3.6.6 in /usr/local/lib/python3.8/dist-packages (from tensorflow-gpu) (4.4.0)\n",
      "Requirement already satisfied: opt-einsum>=2.3.2 in /usr/local/lib/python3.8/dist-packages (from tensorflow-gpu) (3.3.0)\n",
      "Requirement already satisfied: grpcio<2.0,>=1.24.3 in /usr/local/lib/python3.8/dist-packages (from tensorflow-gpu) (1.51.1)\n",
      "Requirement already satisfied: termcolor>=1.1.0 in /usr/local/lib/python3.8/dist-packages (from tensorflow-gpu) (2.1.1)\n",
      "Requirement already satisfied: tensorflow-io-gcs-filesystem>=0.23.1 in /usr/local/lib/python3.8/dist-packages (from tensorflow-gpu) (0.28.0)\n",
      "Requirement already satisfied: h5py>=2.9.0 in /usr/local/lib/python3.8/dist-packages (from tensorflow-gpu) (3.1.0)\n",
      "Requirement already satisfied: wheel<1.0,>=0.23.0 in /usr/local/lib/python3.8/dist-packages (from astunparse>=1.6.0->tensorflow-gpu) (0.38.4)\n",
      "Requirement already satisfied: google-auth-oauthlib<0.5,>=0.4.1 in /usr/local/lib/python3.8/dist-packages (from tensorboard<2.12,>=2.11->tensorflow-gpu) (0.4.6)\n",
      "Requirement already satisfied: requests<3,>=2.21.0 in /usr/local/lib/python3.8/dist-packages (from tensorboard<2.12,>=2.11->tensorflow-gpu) (2.23.0)\n",
      "Requirement already satisfied: tensorboard-data-server<0.7.0,>=0.6.0 in /usr/local/lib/python3.8/dist-packages (from tensorboard<2.12,>=2.11->tensorflow-gpu) (0.6.1)\n",
      "Requirement already satisfied: tensorboard-plugin-wit>=1.6.0 in /usr/local/lib/python3.8/dist-packages (from tensorboard<2.12,>=2.11->tensorflow-gpu) (1.8.1)\n",
      "Requirement already satisfied: markdown>=2.6.8 in /usr/local/lib/python3.8/dist-packages (from tensorboard<2.12,>=2.11->tensorflow-gpu) (3.4.1)\n",
      "Requirement already satisfied: google-auth<3,>=1.6.3 in /usr/local/lib/python3.8/dist-packages (from tensorboard<2.12,>=2.11->tensorflow-gpu) (2.15.0)\n",
      "Requirement already satisfied: werkzeug>=1.0.1 in /usr/local/lib/python3.8/dist-packages (from tensorboard<2.12,>=2.11->tensorflow-gpu) (1.0.1)\n",
      "Requirement already satisfied: cachetools<6.0,>=2.0.0 in /usr/local/lib/python3.8/dist-packages (from google-auth<3,>=1.6.3->tensorboard<2.12,>=2.11->tensorflow-gpu) (5.2.0)\n",
      "Requirement already satisfied: rsa<5,>=3.1.4 in /usr/local/lib/python3.8/dist-packages (from google-auth<3,>=1.6.3->tensorboard<2.12,>=2.11->tensorflow-gpu) (4.9)\n",
      "Requirement already satisfied: pyasn1-modules>=0.2.1 in /usr/local/lib/python3.8/dist-packages (from google-auth<3,>=1.6.3->tensorboard<2.12,>=2.11->tensorflow-gpu) (0.2.8)\n",
      "Requirement already satisfied: requests-oauthlib>=0.7.0 in /usr/local/lib/python3.8/dist-packages (from google-auth-oauthlib<0.5,>=0.4.1->tensorboard<2.12,>=2.11->tensorflow-gpu) (1.3.1)\n",
      "Requirement already satisfied: importlib-metadata>=4.4 in /usr/local/lib/python3.8/dist-packages (from markdown>=2.6.8->tensorboard<2.12,>=2.11->tensorflow-gpu) (4.13.0)\n",
      "Requirement already satisfied: zipp>=0.5 in /usr/local/lib/python3.8/dist-packages (from importlib-metadata>=4.4->markdown>=2.6.8->tensorboard<2.12,>=2.11->tensorflow-gpu) (3.11.0)\n",
      "Requirement already satisfied: pyasn1<0.5.0,>=0.4.6 in /usr/local/lib/python3.8/dist-packages (from pyasn1-modules>=0.2.1->google-auth<3,>=1.6.3->tensorboard<2.12,>=2.11->tensorflow-gpu) (0.4.8)\n",
      "Requirement already satisfied: chardet<4,>=3.0.2 in /usr/local/lib/python3.8/dist-packages (from requests<3,>=2.21.0->tensorboard<2.12,>=2.11->tensorflow-gpu) (3.0.4)\n",
      "Requirement already satisfied: certifi>=2017.4.17 in /usr/local/lib/python3.8/dist-packages (from requests<3,>=2.21.0->tensorboard<2.12,>=2.11->tensorflow-gpu) (2022.9.24)\n",
      "Requirement already satisfied: urllib3!=1.25.0,!=1.25.1,<1.26,>=1.21.1 in /usr/local/lib/python3.8/dist-packages (from requests<3,>=2.21.0->tensorboard<2.12,>=2.11->tensorflow-gpu) (1.24.3)\n",
      "Requirement already satisfied: idna<3,>=2.5 in /usr/local/lib/python3.8/dist-packages (from requests<3,>=2.21.0->tensorboard<2.12,>=2.11->tensorflow-gpu) (2.10)\n",
      "Requirement already satisfied: oauthlib>=3.0.0 in /usr/local/lib/python3.8/dist-packages (from requests-oauthlib>=0.7.0->google-auth-oauthlib<0.5,>=0.4.1->tensorboard<2.12,>=2.11->tensorflow-gpu) (3.2.2)\n",
      "Requirement already satisfied: pyparsing!=3.0.5,>=2.0.2 in /usr/local/lib/python3.8/dist-packages (from packaging->tensorflow-gpu) (3.0.9)\n",
      "Installing collected packages: tensorflow-estimator, tensorboard, keras, flatbuffers, tensorflow-gpu\n",
      "  Attempting uninstall: tensorflow-estimator\n",
      "    Found existing installation: tensorflow-estimator 2.9.0\n",
      "    Uninstalling tensorflow-estimator-2.9.0:\n",
      "      Successfully uninstalled tensorflow-estimator-2.9.0\n",
      "  Attempting uninstall: tensorboard\n",
      "    Found existing installation: tensorboard 2.9.1\n",
      "    Uninstalling tensorboard-2.9.1:\n",
      "      Successfully uninstalled tensorboard-2.9.1\n",
      "  Attempting uninstall: keras\n",
      "    Found existing installation: keras 2.9.0\n",
      "    Uninstalling keras-2.9.0:\n",
      "      Successfully uninstalled keras-2.9.0\n",
      "  Attempting uninstall: flatbuffers\n",
      "    Found existing installation: flatbuffers 1.12\n",
      "    Uninstalling flatbuffers-1.12:\n",
      "      Successfully uninstalled flatbuffers-1.12\n",
      "\u001b[31mERROR: pip's dependency resolver does not currently take into account all the packages that are installed. This behaviour is the source of the following dependency conflicts.\n",
      "tensorflow 2.9.2 requires flatbuffers<2,>=1.12, but you have flatbuffers 22.12.6 which is incompatible.\n",
      "tensorflow 2.9.2 requires keras<2.10.0,>=2.9.0rc0, but you have keras 2.11.0 which is incompatible.\n",
      "tensorflow 2.9.2 requires tensorboard<2.10,>=2.9, but you have tensorboard 2.11.0 which is incompatible.\n",
      "tensorflow 2.9.2 requires tensorflow-estimator<2.10.0,>=2.9.0rc0, but you have tensorflow-estimator 2.11.0 which is incompatible.\u001b[0m\n",
      "Successfully installed flatbuffers-22.12.6 keras-2.11.0 tensorboard-2.11.0 tensorflow-estimator-2.11.0 tensorflow-gpu-2.11.0\n"
     ]
    }
   ],
   "source": [
    "! pip install tensorflow-gpu"
   ]
  },
  {
   "cell_type": "code",
   "execution_count": null,
   "metadata": {
    "id": "itotGYsuK6Tz"
   },
   "outputs": [],
   "source": [
    "import tensorflow as tf"
   ]
  },
  {
   "cell_type": "code",
   "execution_count": null,
   "metadata": {
    "colab": {
     "base_uri": "https://localhost:8080/"
    },
    "id": "ujzMuCx6LADH",
    "outputId": "02dd7453-e81f-461c-f61d-7bb7252cada0"
   },
   "outputs": [
    {
     "name": "stdout",
     "output_type": "stream",
     "text": [
      "2.11.0\n"
     ]
    }
   ],
   "source": [
    "print(tf.__version__)"
   ]
  },
  {
   "cell_type": "code",
   "execution_count": null,
   "metadata": {
    "id": "iIg29TL9LHIx"
   },
   "outputs": [],
   "source": [
    "# import required libraries\n",
    "import numpy as np\n",
    "import matplotlib.pyplot as plt\n",
    "import pandas as pd"
   ]
  },
  {
   "cell_type": "code",
   "execution_count": null,
   "metadata": {
    "colab": {
     "base_uri": "https://localhost:8080/",
     "height": 270
    },
    "id": "TpDNdDTAMTTm",
    "outputId": "7e3d4020-92d2-46d0-a856-c6a8deba5dd0"
   },
   "outputs": [
    {
     "data": {
      "text/html": [
       "\n",
       "  <div id=\"df-96e67404-7c0f-43c5-9bd8-3cbd592a04ed\">\n",
       "    <div class=\"colab-df-container\">\n",
       "      <div>\n",
       "<style scoped>\n",
       "    .dataframe tbody tr th:only-of-type {\n",
       "        vertical-align: middle;\n",
       "    }\n",
       "\n",
       "    .dataframe tbody tr th {\n",
       "        vertical-align: top;\n",
       "    }\n",
       "\n",
       "    .dataframe thead th {\n",
       "        text-align: right;\n",
       "    }\n",
       "</style>\n",
       "<table border=\"1\" class=\"dataframe\">\n",
       "  <thead>\n",
       "    <tr style=\"text-align: right;\">\n",
       "      <th></th>\n",
       "      <th>RowNumber</th>\n",
       "      <th>CustomerId</th>\n",
       "      <th>Surname</th>\n",
       "      <th>CreditScore</th>\n",
       "      <th>Geography</th>\n",
       "      <th>Gender</th>\n",
       "      <th>Age</th>\n",
       "      <th>Tenure</th>\n",
       "      <th>Balance</th>\n",
       "      <th>NumOfProducts</th>\n",
       "      <th>HasCrCard</th>\n",
       "      <th>IsActiveMember</th>\n",
       "      <th>EstimatedSalary</th>\n",
       "      <th>Exited</th>\n",
       "    </tr>\n",
       "  </thead>\n",
       "  <tbody>\n",
       "    <tr>\n",
       "      <th>0</th>\n",
       "      <td>1</td>\n",
       "      <td>15634602</td>\n",
       "      <td>Hargrave</td>\n",
       "      <td>619</td>\n",
       "      <td>France</td>\n",
       "      <td>Female</td>\n",
       "      <td>42</td>\n",
       "      <td>2</td>\n",
       "      <td>0.00</td>\n",
       "      <td>1</td>\n",
       "      <td>1</td>\n",
       "      <td>1</td>\n",
       "      <td>101348.88</td>\n",
       "      <td>1</td>\n",
       "    </tr>\n",
       "    <tr>\n",
       "      <th>1</th>\n",
       "      <td>2</td>\n",
       "      <td>15647311</td>\n",
       "      <td>Hill</td>\n",
       "      <td>608</td>\n",
       "      <td>Spain</td>\n",
       "      <td>Female</td>\n",
       "      <td>41</td>\n",
       "      <td>1</td>\n",
       "      <td>83807.86</td>\n",
       "      <td>1</td>\n",
       "      <td>0</td>\n",
       "      <td>1</td>\n",
       "      <td>112542.58</td>\n",
       "      <td>0</td>\n",
       "    </tr>\n",
       "    <tr>\n",
       "      <th>2</th>\n",
       "      <td>3</td>\n",
       "      <td>15619304</td>\n",
       "      <td>Onio</td>\n",
       "      <td>502</td>\n",
       "      <td>France</td>\n",
       "      <td>Female</td>\n",
       "      <td>42</td>\n",
       "      <td>8</td>\n",
       "      <td>159660.80</td>\n",
       "      <td>3</td>\n",
       "      <td>1</td>\n",
       "      <td>0</td>\n",
       "      <td>113931.57</td>\n",
       "      <td>1</td>\n",
       "    </tr>\n",
       "    <tr>\n",
       "      <th>3</th>\n",
       "      <td>4</td>\n",
       "      <td>15701354</td>\n",
       "      <td>Boni</td>\n",
       "      <td>699</td>\n",
       "      <td>France</td>\n",
       "      <td>Female</td>\n",
       "      <td>39</td>\n",
       "      <td>1</td>\n",
       "      <td>0.00</td>\n",
       "      <td>2</td>\n",
       "      <td>0</td>\n",
       "      <td>0</td>\n",
       "      <td>93826.63</td>\n",
       "      <td>0</td>\n",
       "    </tr>\n",
       "    <tr>\n",
       "      <th>4</th>\n",
       "      <td>5</td>\n",
       "      <td>15737888</td>\n",
       "      <td>Mitchell</td>\n",
       "      <td>850</td>\n",
       "      <td>Spain</td>\n",
       "      <td>Female</td>\n",
       "      <td>43</td>\n",
       "      <td>2</td>\n",
       "      <td>125510.82</td>\n",
       "      <td>1</td>\n",
       "      <td>1</td>\n",
       "      <td>1</td>\n",
       "      <td>79084.10</td>\n",
       "      <td>0</td>\n",
       "    </tr>\n",
       "  </tbody>\n",
       "</table>\n",
       "</div>\n",
       "      <button class=\"colab-df-convert\" onclick=\"convertToInteractive('df-96e67404-7c0f-43c5-9bd8-3cbd592a04ed')\"\n",
       "              title=\"Convert this dataframe to an interactive table.\"\n",
       "              style=\"display:none;\">\n",
       "        \n",
       "  <svg xmlns=\"http://www.w3.org/2000/svg\" height=\"24px\"viewBox=\"0 0 24 24\"\n",
       "       width=\"24px\">\n",
       "    <path d=\"M0 0h24v24H0V0z\" fill=\"none\"/>\n",
       "    <path d=\"M18.56 5.44l.94 2.06.94-2.06 2.06-.94-2.06-.94-.94-2.06-.94 2.06-2.06.94zm-11 1L8.5 8.5l.94-2.06 2.06-.94-2.06-.94L8.5 2.5l-.94 2.06-2.06.94zm10 10l.94 2.06.94-2.06 2.06-.94-2.06-.94-.94-2.06-.94 2.06-2.06.94z\"/><path d=\"M17.41 7.96l-1.37-1.37c-.4-.4-.92-.59-1.43-.59-.52 0-1.04.2-1.43.59L10.3 9.45l-7.72 7.72c-.78.78-.78 2.05 0 2.83L4 21.41c.39.39.9.59 1.41.59.51 0 1.02-.2 1.41-.59l7.78-7.78 2.81-2.81c.8-.78.8-2.07 0-2.86zM5.41 20L4 18.59l7.72-7.72 1.47 1.35L5.41 20z\"/>\n",
       "  </svg>\n",
       "      </button>\n",
       "      \n",
       "  <style>\n",
       "    .colab-df-container {\n",
       "      display:flex;\n",
       "      flex-wrap:wrap;\n",
       "      gap: 12px;\n",
       "    }\n",
       "\n",
       "    .colab-df-convert {\n",
       "      background-color: #E8F0FE;\n",
       "      border: none;\n",
       "      border-radius: 50%;\n",
       "      cursor: pointer;\n",
       "      display: none;\n",
       "      fill: #1967D2;\n",
       "      height: 32px;\n",
       "      padding: 0 0 0 0;\n",
       "      width: 32px;\n",
       "    }\n",
       "\n",
       "    .colab-df-convert:hover {\n",
       "      background-color: #E2EBFA;\n",
       "      box-shadow: 0px 1px 2px rgba(60, 64, 67, 0.3), 0px 1px 3px 1px rgba(60, 64, 67, 0.15);\n",
       "      fill: #174EA6;\n",
       "    }\n",
       "\n",
       "    [theme=dark] .colab-df-convert {\n",
       "      background-color: #3B4455;\n",
       "      fill: #D2E3FC;\n",
       "    }\n",
       "\n",
       "    [theme=dark] .colab-df-convert:hover {\n",
       "      background-color: #434B5C;\n",
       "      box-shadow: 0px 1px 3px 1px rgba(0, 0, 0, 0.15);\n",
       "      filter: drop-shadow(0px 1px 2px rgba(0, 0, 0, 0.3));\n",
       "      fill: #FFFFFF;\n",
       "    }\n",
       "  </style>\n",
       "\n",
       "      <script>\n",
       "        const buttonEl =\n",
       "          document.querySelector('#df-96e67404-7c0f-43c5-9bd8-3cbd592a04ed button.colab-df-convert');\n",
       "        buttonEl.style.display =\n",
       "          google.colab.kernel.accessAllowed ? 'block' : 'none';\n",
       "\n",
       "        async function convertToInteractive(key) {\n",
       "          const element = document.querySelector('#df-96e67404-7c0f-43c5-9bd8-3cbd592a04ed');\n",
       "          const dataTable =\n",
       "            await google.colab.kernel.invokeFunction('convertToInteractive',\n",
       "                                                     [key], {});\n",
       "          if (!dataTable) return;\n",
       "\n",
       "          const docLinkHtml = 'Like what you see? Visit the ' +\n",
       "            '<a target=\"_blank\" href=https://colab.research.google.com/notebooks/data_table.ipynb>data table notebook</a>'\n",
       "            + ' to learn more about interactive tables.';\n",
       "          element.innerHTML = '';\n",
       "          dataTable['output_type'] = 'display_data';\n",
       "          await google.colab.output.renderOutput(dataTable, element);\n",
       "          const docLink = document.createElement('div');\n",
       "          docLink.innerHTML = docLinkHtml;\n",
       "          element.appendChild(docLink);\n",
       "        }\n",
       "      </script>\n",
       "    </div>\n",
       "  </div>\n",
       "  "
      ],
      "text/plain": [
       "   RowNumber  CustomerId   Surname  CreditScore Geography  Gender  Age  \\\n",
       "0          1    15634602  Hargrave          619    France  Female   42   \n",
       "1          2    15647311      Hill          608     Spain  Female   41   \n",
       "2          3    15619304      Onio          502    France  Female   42   \n",
       "3          4    15701354      Boni          699    France  Female   39   \n",
       "4          5    15737888  Mitchell          850     Spain  Female   43   \n",
       "\n",
       "   Tenure    Balance  NumOfProducts  HasCrCard  IsActiveMember  \\\n",
       "0       2       0.00              1          1               1   \n",
       "1       1   83807.86              1          0               1   \n",
       "2       8  159660.80              3          1               0   \n",
       "3       1       0.00              2          0               0   \n",
       "4       2  125510.82              1          1               1   \n",
       "\n",
       "   EstimatedSalary  Exited  \n",
       "0        101348.88       1  \n",
       "1        112542.58       0  \n",
       "2        113931.57       1  \n",
       "3         93826.63       0  \n",
       "4         79084.10       0  "
      ]
     },
     "execution_count": 6,
     "metadata": {},
     "output_type": "execute_result"
    }
   ],
   "source": [
    "dataset=pd.read_csv('Churn_Modelling.csv')\n",
    "dataset.head()"
   ]
  },
  {
   "cell_type": "code",
   "execution_count": null,
   "metadata": {
    "id": "29IUZHNnMlar"
   },
   "outputs": [],
   "source": [
    "# The problem statement is there is a specific dataset we need to predict binary\n",
    " #classification problem dataset, wether the customer is going to exit the bank or not. \n",
    " # so by knowing the customer is going to exit the bank can take the forward steps like increasing customer services\n",
    " # so that the customer will not exit. This is the reason we are trying to create the model.\n",
    " # In the dataset the exited feature is the dependent feature and all other feature are independent features."
   ]
  },
  {
   "cell_type": "code",
   "execution_count": null,
   "metadata": {
    "id": "XmYs9imVNZAL"
   },
   "outputs": [],
   "source": [
    "# Divide the dataset into independent and dependent features\n",
    "\n",
    "X = dataset.iloc[:,3:13]\n",
    "y = dataset.iloc[:,13]"
   ]
  },
  {
   "cell_type": "code",
   "execution_count": null,
   "metadata": {
    "colab": {
     "base_uri": "https://localhost:8080/",
     "height": 206
    },
    "id": "Iv6107cDPK5u",
    "outputId": "56d7cf09-95e1-4eb4-9a77-f50a88ea59f3"
   },
   "outputs": [
    {
     "data": {
      "text/html": [
       "\n",
       "  <div id=\"df-f7e2fc22-bc1c-4fca-96d1-a06d44cb0690\">\n",
       "    <div class=\"colab-df-container\">\n",
       "      <div>\n",
       "<style scoped>\n",
       "    .dataframe tbody tr th:only-of-type {\n",
       "        vertical-align: middle;\n",
       "    }\n",
       "\n",
       "    .dataframe tbody tr th {\n",
       "        vertical-align: top;\n",
       "    }\n",
       "\n",
       "    .dataframe thead th {\n",
       "        text-align: right;\n",
       "    }\n",
       "</style>\n",
       "<table border=\"1\" class=\"dataframe\">\n",
       "  <thead>\n",
       "    <tr style=\"text-align: right;\">\n",
       "      <th></th>\n",
       "      <th>CreditScore</th>\n",
       "      <th>Geography</th>\n",
       "      <th>Gender</th>\n",
       "      <th>Age</th>\n",
       "      <th>Tenure</th>\n",
       "      <th>Balance</th>\n",
       "      <th>NumOfProducts</th>\n",
       "      <th>HasCrCard</th>\n",
       "      <th>IsActiveMember</th>\n",
       "      <th>EstimatedSalary</th>\n",
       "    </tr>\n",
       "  </thead>\n",
       "  <tbody>\n",
       "    <tr>\n",
       "      <th>0</th>\n",
       "      <td>619</td>\n",
       "      <td>France</td>\n",
       "      <td>Female</td>\n",
       "      <td>42</td>\n",
       "      <td>2</td>\n",
       "      <td>0.00</td>\n",
       "      <td>1</td>\n",
       "      <td>1</td>\n",
       "      <td>1</td>\n",
       "      <td>101348.88</td>\n",
       "    </tr>\n",
       "    <tr>\n",
       "      <th>1</th>\n",
       "      <td>608</td>\n",
       "      <td>Spain</td>\n",
       "      <td>Female</td>\n",
       "      <td>41</td>\n",
       "      <td>1</td>\n",
       "      <td>83807.86</td>\n",
       "      <td>1</td>\n",
       "      <td>0</td>\n",
       "      <td>1</td>\n",
       "      <td>112542.58</td>\n",
       "    </tr>\n",
       "    <tr>\n",
       "      <th>2</th>\n",
       "      <td>502</td>\n",
       "      <td>France</td>\n",
       "      <td>Female</td>\n",
       "      <td>42</td>\n",
       "      <td>8</td>\n",
       "      <td>159660.80</td>\n",
       "      <td>3</td>\n",
       "      <td>1</td>\n",
       "      <td>0</td>\n",
       "      <td>113931.57</td>\n",
       "    </tr>\n",
       "    <tr>\n",
       "      <th>3</th>\n",
       "      <td>699</td>\n",
       "      <td>France</td>\n",
       "      <td>Female</td>\n",
       "      <td>39</td>\n",
       "      <td>1</td>\n",
       "      <td>0.00</td>\n",
       "      <td>2</td>\n",
       "      <td>0</td>\n",
       "      <td>0</td>\n",
       "      <td>93826.63</td>\n",
       "    </tr>\n",
       "    <tr>\n",
       "      <th>4</th>\n",
       "      <td>850</td>\n",
       "      <td>Spain</td>\n",
       "      <td>Female</td>\n",
       "      <td>43</td>\n",
       "      <td>2</td>\n",
       "      <td>125510.82</td>\n",
       "      <td>1</td>\n",
       "      <td>1</td>\n",
       "      <td>1</td>\n",
       "      <td>79084.10</td>\n",
       "    </tr>\n",
       "  </tbody>\n",
       "</table>\n",
       "</div>\n",
       "      <button class=\"colab-df-convert\" onclick=\"convertToInteractive('df-f7e2fc22-bc1c-4fca-96d1-a06d44cb0690')\"\n",
       "              title=\"Convert this dataframe to an interactive table.\"\n",
       "              style=\"display:none;\">\n",
       "        \n",
       "  <svg xmlns=\"http://www.w3.org/2000/svg\" height=\"24px\"viewBox=\"0 0 24 24\"\n",
       "       width=\"24px\">\n",
       "    <path d=\"M0 0h24v24H0V0z\" fill=\"none\"/>\n",
       "    <path d=\"M18.56 5.44l.94 2.06.94-2.06 2.06-.94-2.06-.94-.94-2.06-.94 2.06-2.06.94zm-11 1L8.5 8.5l.94-2.06 2.06-.94-2.06-.94L8.5 2.5l-.94 2.06-2.06.94zm10 10l.94 2.06.94-2.06 2.06-.94-2.06-.94-.94-2.06-.94 2.06-2.06.94z\"/><path d=\"M17.41 7.96l-1.37-1.37c-.4-.4-.92-.59-1.43-.59-.52 0-1.04.2-1.43.59L10.3 9.45l-7.72 7.72c-.78.78-.78 2.05 0 2.83L4 21.41c.39.39.9.59 1.41.59.51 0 1.02-.2 1.41-.59l7.78-7.78 2.81-2.81c.8-.78.8-2.07 0-2.86zM5.41 20L4 18.59l7.72-7.72 1.47 1.35L5.41 20z\"/>\n",
       "  </svg>\n",
       "      </button>\n",
       "      \n",
       "  <style>\n",
       "    .colab-df-container {\n",
       "      display:flex;\n",
       "      flex-wrap:wrap;\n",
       "      gap: 12px;\n",
       "    }\n",
       "\n",
       "    .colab-df-convert {\n",
       "      background-color: #E8F0FE;\n",
       "      border: none;\n",
       "      border-radius: 50%;\n",
       "      cursor: pointer;\n",
       "      display: none;\n",
       "      fill: #1967D2;\n",
       "      height: 32px;\n",
       "      padding: 0 0 0 0;\n",
       "      width: 32px;\n",
       "    }\n",
       "\n",
       "    .colab-df-convert:hover {\n",
       "      background-color: #E2EBFA;\n",
       "      box-shadow: 0px 1px 2px rgba(60, 64, 67, 0.3), 0px 1px 3px 1px rgba(60, 64, 67, 0.15);\n",
       "      fill: #174EA6;\n",
       "    }\n",
       "\n",
       "    [theme=dark] .colab-df-convert {\n",
       "      background-color: #3B4455;\n",
       "      fill: #D2E3FC;\n",
       "    }\n",
       "\n",
       "    [theme=dark] .colab-df-convert:hover {\n",
       "      background-color: #434B5C;\n",
       "      box-shadow: 0px 1px 3px 1px rgba(0, 0, 0, 0.15);\n",
       "      filter: drop-shadow(0px 1px 2px rgba(0, 0, 0, 0.3));\n",
       "      fill: #FFFFFF;\n",
       "    }\n",
       "  </style>\n",
       "\n",
       "      <script>\n",
       "        const buttonEl =\n",
       "          document.querySelector('#df-f7e2fc22-bc1c-4fca-96d1-a06d44cb0690 button.colab-df-convert');\n",
       "        buttonEl.style.display =\n",
       "          google.colab.kernel.accessAllowed ? 'block' : 'none';\n",
       "\n",
       "        async function convertToInteractive(key) {\n",
       "          const element = document.querySelector('#df-f7e2fc22-bc1c-4fca-96d1-a06d44cb0690');\n",
       "          const dataTable =\n",
       "            await google.colab.kernel.invokeFunction('convertToInteractive',\n",
       "                                                     [key], {});\n",
       "          if (!dataTable) return;\n",
       "\n",
       "          const docLinkHtml = 'Like what you see? Visit the ' +\n",
       "            '<a target=\"_blank\" href=https://colab.research.google.com/notebooks/data_table.ipynb>data table notebook</a>'\n",
       "            + ' to learn more about interactive tables.';\n",
       "          element.innerHTML = '';\n",
       "          dataTable['output_type'] = 'display_data';\n",
       "          await google.colab.output.renderOutput(dataTable, element);\n",
       "          const docLink = document.createElement('div');\n",
       "          docLink.innerHTML = docLinkHtml;\n",
       "          element.appendChild(docLink);\n",
       "        }\n",
       "      </script>\n",
       "    </div>\n",
       "  </div>\n",
       "  "
      ],
      "text/plain": [
       "   CreditScore Geography  Gender  Age  Tenure    Balance  NumOfProducts  \\\n",
       "0          619    France  Female   42       2       0.00              1   \n",
       "1          608     Spain  Female   41       1   83807.86              1   \n",
       "2          502    France  Female   42       8  159660.80              3   \n",
       "3          699    France  Female   39       1       0.00              2   \n",
       "4          850     Spain  Female   43       2  125510.82              1   \n",
       "\n",
       "   HasCrCard  IsActiveMember  EstimatedSalary  \n",
       "0          1               1        101348.88  \n",
       "1          0               1        112542.58  \n",
       "2          1               0        113931.57  \n",
       "3          0               0         93826.63  \n",
       "4          1               1         79084.10  "
      ]
     },
     "execution_count": 14,
     "metadata": {},
     "output_type": "execute_result"
    }
   ],
   "source": [
    "X.head()"
   ]
  },
  {
   "cell_type": "code",
   "execution_count": null,
   "metadata": {
    "colab": {
     "base_uri": "https://localhost:8080/"
    },
    "id": "G7TxnP-TPRHT",
    "outputId": "889a8c42-b068-4b6d-e265-ce408fa76fc2"
   },
   "outputs": [
    {
     "data": {
      "text/plain": [
       "0    1\n",
       "1    0\n",
       "2    1\n",
       "3    0\n",
       "4    0\n",
       "Name: Exited, dtype: int64"
      ]
     },
     "execution_count": 15,
     "metadata": {},
     "output_type": "execute_result"
    }
   ],
   "source": [
    "y.head()"
   ]
  },
  {
   "cell_type": "code",
   "execution_count": null,
   "metadata": {
    "id": "aYxMRBAsPZoV"
   },
   "outputs": [],
   "source": [
    "# Feature Engineering \n",
    "# We have categorical features in dataset so we will convert these to numerical data by get_dummies in pandas or we\n",
    "# we can use onehot_encoder\n",
    "\n",
    "\n",
    "geography=pd.get_dummies(X['Geography'], drop_first=True)\n",
    "gender=pd.get_dummies(X['Gender'], drop_first=True)"
   ]
  },
  {
   "cell_type": "code",
   "execution_count": null,
   "metadata": {
    "colab": {
     "base_uri": "https://localhost:8080/",
     "height": 424
    },
    "id": "Q9L0sd5LQzZb",
    "outputId": "147be873-a764-4bb6-d333-9e34ecd7604e"
   },
   "outputs": [
    {
     "data": {
      "text/html": [
       "\n",
       "  <div id=\"df-d2277191-03b2-4a0b-8983-8d3a7d349aea\">\n",
       "    <div class=\"colab-df-container\">\n",
       "      <div>\n",
       "<style scoped>\n",
       "    .dataframe tbody tr th:only-of-type {\n",
       "        vertical-align: middle;\n",
       "    }\n",
       "\n",
       "    .dataframe tbody tr th {\n",
       "        vertical-align: top;\n",
       "    }\n",
       "\n",
       "    .dataframe thead th {\n",
       "        text-align: right;\n",
       "    }\n",
       "</style>\n",
       "<table border=\"1\" class=\"dataframe\">\n",
       "  <thead>\n",
       "    <tr style=\"text-align: right;\">\n",
       "      <th></th>\n",
       "      <th>Germany</th>\n",
       "      <th>Spain</th>\n",
       "    </tr>\n",
       "  </thead>\n",
       "  <tbody>\n",
       "    <tr>\n",
       "      <th>0</th>\n",
       "      <td>0</td>\n",
       "      <td>0</td>\n",
       "    </tr>\n",
       "    <tr>\n",
       "      <th>1</th>\n",
       "      <td>0</td>\n",
       "      <td>1</td>\n",
       "    </tr>\n",
       "    <tr>\n",
       "      <th>2</th>\n",
       "      <td>0</td>\n",
       "      <td>0</td>\n",
       "    </tr>\n",
       "    <tr>\n",
       "      <th>3</th>\n",
       "      <td>0</td>\n",
       "      <td>0</td>\n",
       "    </tr>\n",
       "    <tr>\n",
       "      <th>4</th>\n",
       "      <td>0</td>\n",
       "      <td>1</td>\n",
       "    </tr>\n",
       "    <tr>\n",
       "      <th>...</th>\n",
       "      <td>...</td>\n",
       "      <td>...</td>\n",
       "    </tr>\n",
       "    <tr>\n",
       "      <th>9995</th>\n",
       "      <td>0</td>\n",
       "      <td>0</td>\n",
       "    </tr>\n",
       "    <tr>\n",
       "      <th>9996</th>\n",
       "      <td>0</td>\n",
       "      <td>0</td>\n",
       "    </tr>\n",
       "    <tr>\n",
       "      <th>9997</th>\n",
       "      <td>0</td>\n",
       "      <td>0</td>\n",
       "    </tr>\n",
       "    <tr>\n",
       "      <th>9998</th>\n",
       "      <td>1</td>\n",
       "      <td>0</td>\n",
       "    </tr>\n",
       "    <tr>\n",
       "      <th>9999</th>\n",
       "      <td>0</td>\n",
       "      <td>0</td>\n",
       "    </tr>\n",
       "  </tbody>\n",
       "</table>\n",
       "<p>10000 rows × 2 columns</p>\n",
       "</div>\n",
       "      <button class=\"colab-df-convert\" onclick=\"convertToInteractive('df-d2277191-03b2-4a0b-8983-8d3a7d349aea')\"\n",
       "              title=\"Convert this dataframe to an interactive table.\"\n",
       "              style=\"display:none;\">\n",
       "        \n",
       "  <svg xmlns=\"http://www.w3.org/2000/svg\" height=\"24px\"viewBox=\"0 0 24 24\"\n",
       "       width=\"24px\">\n",
       "    <path d=\"M0 0h24v24H0V0z\" fill=\"none\"/>\n",
       "    <path d=\"M18.56 5.44l.94 2.06.94-2.06 2.06-.94-2.06-.94-.94-2.06-.94 2.06-2.06.94zm-11 1L8.5 8.5l.94-2.06 2.06-.94-2.06-.94L8.5 2.5l-.94 2.06-2.06.94zm10 10l.94 2.06.94-2.06 2.06-.94-2.06-.94-.94-2.06-.94 2.06-2.06.94z\"/><path d=\"M17.41 7.96l-1.37-1.37c-.4-.4-.92-.59-1.43-.59-.52 0-1.04.2-1.43.59L10.3 9.45l-7.72 7.72c-.78.78-.78 2.05 0 2.83L4 21.41c.39.39.9.59 1.41.59.51 0 1.02-.2 1.41-.59l7.78-7.78 2.81-2.81c.8-.78.8-2.07 0-2.86zM5.41 20L4 18.59l7.72-7.72 1.47 1.35L5.41 20z\"/>\n",
       "  </svg>\n",
       "      </button>\n",
       "      \n",
       "  <style>\n",
       "    .colab-df-container {\n",
       "      display:flex;\n",
       "      flex-wrap:wrap;\n",
       "      gap: 12px;\n",
       "    }\n",
       "\n",
       "    .colab-df-convert {\n",
       "      background-color: #E8F0FE;\n",
       "      border: none;\n",
       "      border-radius: 50%;\n",
       "      cursor: pointer;\n",
       "      display: none;\n",
       "      fill: #1967D2;\n",
       "      height: 32px;\n",
       "      padding: 0 0 0 0;\n",
       "      width: 32px;\n",
       "    }\n",
       "\n",
       "    .colab-df-convert:hover {\n",
       "      background-color: #E2EBFA;\n",
       "      box-shadow: 0px 1px 2px rgba(60, 64, 67, 0.3), 0px 1px 3px 1px rgba(60, 64, 67, 0.15);\n",
       "      fill: #174EA6;\n",
       "    }\n",
       "\n",
       "    [theme=dark] .colab-df-convert {\n",
       "      background-color: #3B4455;\n",
       "      fill: #D2E3FC;\n",
       "    }\n",
       "\n",
       "    [theme=dark] .colab-df-convert:hover {\n",
       "      background-color: #434B5C;\n",
       "      box-shadow: 0px 1px 3px 1px rgba(0, 0, 0, 0.15);\n",
       "      filter: drop-shadow(0px 1px 2px rgba(0, 0, 0, 0.3));\n",
       "      fill: #FFFFFF;\n",
       "    }\n",
       "  </style>\n",
       "\n",
       "      <script>\n",
       "        const buttonEl =\n",
       "          document.querySelector('#df-d2277191-03b2-4a0b-8983-8d3a7d349aea button.colab-df-convert');\n",
       "        buttonEl.style.display =\n",
       "          google.colab.kernel.accessAllowed ? 'block' : 'none';\n",
       "\n",
       "        async function convertToInteractive(key) {\n",
       "          const element = document.querySelector('#df-d2277191-03b2-4a0b-8983-8d3a7d349aea');\n",
       "          const dataTable =\n",
       "            await google.colab.kernel.invokeFunction('convertToInteractive',\n",
       "                                                     [key], {});\n",
       "          if (!dataTable) return;\n",
       "\n",
       "          const docLinkHtml = 'Like what you see? Visit the ' +\n",
       "            '<a target=\"_blank\" href=https://colab.research.google.com/notebooks/data_table.ipynb>data table notebook</a>'\n",
       "            + ' to learn more about interactive tables.';\n",
       "          element.innerHTML = '';\n",
       "          dataTable['output_type'] = 'display_data';\n",
       "          await google.colab.output.renderOutput(dataTable, element);\n",
       "          const docLink = document.createElement('div');\n",
       "          docLink.innerHTML = docLinkHtml;\n",
       "          element.appendChild(docLink);\n",
       "        }\n",
       "      </script>\n",
       "    </div>\n",
       "  </div>\n",
       "  "
      ],
      "text/plain": [
       "      Germany  Spain\n",
       "0           0      0\n",
       "1           0      1\n",
       "2           0      0\n",
       "3           0      0\n",
       "4           0      1\n",
       "...       ...    ...\n",
       "9995        0      0\n",
       "9996        0      0\n",
       "9997        0      0\n",
       "9998        1      0\n",
       "9999        0      0\n",
       "\n",
       "[10000 rows x 2 columns]"
      ]
     },
     "execution_count": 18,
     "metadata": {},
     "output_type": "execute_result"
    }
   ],
   "source": [
    "geography"
   ]
  },
  {
   "cell_type": "code",
   "execution_count": null,
   "metadata": {
    "id": "BZO09krxRCDq"
   },
   "outputs": [],
   "source": [
    "# Drop the old categorical feature as we are converted them to numerical features. and we will update in the X\n",
    "\n",
    "X=X.drop(['Geography', 'Gender'], axis=1)"
   ]
  },
  {
   "cell_type": "code",
   "execution_count": null,
   "metadata": {
    "id": "8uG1rvU8RgBP"
   },
   "outputs": [],
   "source": []
  },
  {
   "cell_type": "code",
   "execution_count": null,
   "metadata": {
    "id": "QF-UCBv-ZeUe"
   },
   "outputs": [],
   "source": [
    "# Concatinate the converted numerical features to X\n",
    "X=pd.concat([X, geography, gender], axis=1)"
   ]
  },
  {
   "cell_type": "code",
   "execution_count": null,
   "metadata": {
    "id": "s10L_OXTZ5I0"
   },
   "outputs": [],
   "source": [
    "# Splittting the data into train and test data \n",
    "\n",
    "from sklearn.model_selection import train_test_split\n",
    "X_train,X_test,y_train,y_test = train_test_split(X,y,test_size=0.2, random_state=0 )"
   ]
  },
  {
   "cell_type": "code",
   "execution_count": null,
   "metadata": {
    "id": "VvgNQC2oa3m3"
   },
   "outputs": [],
   "source": [
    "# Feature Scaling\n",
    "\n",
    "from sklearn.preprocessing import StandardScaler\n",
    "sc = StandardScaler()\n",
    "X_train=sc.fit_transform(X_train)\n",
    "X_test=sc.transform(X_test)"
   ]
  },
  {
   "cell_type": "code",
   "execution_count": null,
   "metadata": {
    "colab": {
     "base_uri": "https://localhost:8080/"
    },
    "id": "ljYXhiLebia9",
    "outputId": "2ada9460-3eac-455a-9c71-0e74489d1be8"
   },
   "outputs": [
    {
     "data": {
      "text/plain": [
       "array([[ 0.16958176, -0.46460796,  0.00666099, ..., -0.5698444 ,\n",
       "         1.74309049, -1.09168714],\n",
       "       [-2.30455945,  0.30102557, -1.37744033, ...,  1.75486502,\n",
       "        -0.57369368,  0.91601335],\n",
       "       [-1.19119591, -0.94312892, -1.031415  , ..., -0.5698444 ,\n",
       "        -0.57369368, -1.09168714],\n",
       "       ...,\n",
       "       [ 0.9015152 , -0.36890377,  0.00666099, ..., -0.5698444 ,\n",
       "        -0.57369368,  0.91601335],\n",
       "       [-0.62420521, -0.08179119,  1.39076231, ..., -0.5698444 ,\n",
       "         1.74309049, -1.09168714],\n",
       "       [-0.28401079,  0.87525072, -1.37744033, ...,  1.75486502,\n",
       "        -0.57369368, -1.09168714]])"
      ]
     },
     "execution_count": 25,
     "metadata": {},
     "output_type": "execute_result"
    }
   ],
   "source": [
    "X_train"
   ]
  },
  {
   "cell_type": "code",
   "execution_count": null,
   "metadata": {
    "colab": {
     "base_uri": "https://localhost:8080/"
    },
    "id": "4QTgIAJ_b6Iv",
    "outputId": "d51557cd-48b3-4cba-a0c1-4ac81ddb101b"
   },
   "outputs": [
    {
     "data": {
      "text/plain": [
       "array([[-0.55204276, -0.36890377,  1.04473698, ...,  1.75486502,\n",
       "        -0.57369368, -1.09168714],\n",
       "       [-1.31490297,  0.10961719, -1.031415  , ..., -0.5698444 ,\n",
       "        -0.57369368, -1.09168714],\n",
       "       [ 0.57162971,  0.30102557,  1.04473698, ..., -0.5698444 ,\n",
       "         1.74309049, -1.09168714],\n",
       "       ...,\n",
       "       [-0.74791227, -0.27319958, -1.37744033, ..., -0.5698444 ,\n",
       "         1.74309049,  0.91601335],\n",
       "       [-0.00566991, -0.46460796, -0.33936434, ...,  1.75486502,\n",
       "        -0.57369368,  0.91601335],\n",
       "       [-0.79945688, -0.84742473,  1.04473698, ...,  1.75486502,\n",
       "        -0.57369368,  0.91601335]])"
      ]
     },
     "execution_count": 26,
     "metadata": {},
     "output_type": "execute_result"
    }
   ],
   "source": [
    "X_test"
   ]
  },
  {
   "cell_type": "code",
   "execution_count": null,
   "metadata": {
    "colab": {
     "base_uri": "https://localhost:8080/"
    },
    "id": "BGKcf2zJb8kN",
    "outputId": "935a7d79-843a-4c53-bb0c-88475e0c5d2c"
   },
   "outputs": [
    {
     "data": {
      "text/plain": [
       "(8000, 11)"
      ]
     },
     "execution_count": 27,
     "metadata": {},
     "output_type": "execute_result"
    }
   ],
   "source": [
    "X_train.shape"
   ]
  },
  {
   "cell_type": "code",
   "execution_count": null,
   "metadata": {
    "id": "IeHqCD-wb_mj"
   },
   "outputs": [],
   "source": [
    "# Part 2 lets create the ANN \n",
    "from tensorflow.keras.models import Sequential\n",
    "from tensorflow.keras.layers import Dense \n",
    "from tensorflow.keras.layers import LeakyReLU,PReLU,ReLU,ELU\n",
    "from tensorflow.keras.layers import Dropout"
   ]
  },
  {
   "cell_type": "code",
   "execution_count": null,
   "metadata": {
    "id": "Qdd8gLCCdMnj"
   },
   "outputs": [],
   "source": [
    "# now we have imported \n",
    "#1) Sequential\n",
    "# we have 11 independent features, so in our input layer there will be 11 inputs. In the second layer i.e, hidden\n",
    "# layer we have some neurons and we have another hidden layer with some neurons. The output layer will have only one\n",
    "# neuron as it is a binary classification problem.\n",
    "#So if we consider the entire neural network as one, the sequential \n",
    "# basically indicates that we will definately able to do fprward and backwad propogation.\n",
    "#2) Dense basically means that we will be able to create the inputs and the neurons in the ANN.\n",
    "#3) Activation basically means that we will be able to use all the activation functions.\n",
    "#4) Dropout is used to prevent the overfitting of the ANN. so if we set the dropout value as 0.2 in 1st hidden layer\n",
    "# it will randomly select the 30% of neurons in the layer and deactivate/dead those neurons.\n"
   ]
  },
  {
   "cell_type": "code",
   "execution_count": 30,
   "metadata": {
    "id": "5omWU2hQhClM"
   },
   "outputs": [],
   "source": [
    "# lets initialize the ANN\n",
    "classifier = Sequential()"
   ]
  },
  {
   "cell_type": "code",
   "execution_count": 31,
   "metadata": {
    "id": "E-TX16y_nMDl"
   },
   "outputs": [],
   "source": [
    "# Adding the input layer\n",
    "classifier.add(Dense(units=11, activation='relu'))"
   ]
  },
  {
   "cell_type": "code",
   "execution_count": 54,
   "metadata": {
    "id": "q-5Xay43nZDC"
   },
   "outputs": [],
   "source": [
    "# Adding the first hidden layer\n",
    "classifier.add(Dense(units=7, activation='relu'))\n",
    "classifier.add(Dropout(0.2))"
   ]
  },
  {
   "cell_type": "code",
   "execution_count": 55,
   "metadata": {
    "id": "y9gYaYswnr8M"
   },
   "outputs": [],
   "source": [
    "# Adding the second hidden layer\n",
    "classifier.add(Dense(units=6, activation='relu')) \n",
    "classifier.add(Dropout(0.3))"
   ]
  },
  {
   "cell_type": "code",
   "execution_count": 56,
   "metadata": {
    "id": "sJPBjY9Rn3sg"
   },
   "outputs": [],
   "source": [
    "# Adding the output layer \n",
    "classifier.add(Dense(1, activation='sigmoid'))"
   ]
  },
  {
   "cell_type": "code",
   "execution_count": 57,
   "metadata": {
    "id": "a1SGwRBUoHTM"
   },
   "outputs": [],
   "source": [
    "# lets add the optimizers\n",
    "\n",
    "classifier.compile(optimizer='adam', loss='binary_crossentropy', metrics=['accuracy'])"
   ]
  },
  {
   "cell_type": "code",
   "execution_count": 58,
   "metadata": {
    "id": "AXc7IYE6pQHa"
   },
   "outputs": [],
   "source": [
    "# by default the adam has the learning rate of 0.05 so no need to give the learning rate seperately.\n",
    "# If you really want to provide your own learning rate :\n",
    "# import tensorflow \n",
    "#opt=tensorflow.keras.optimizers.Adam(learning_rate=0.01)\n",
    "\n",
    "# And put this opt in the above code inplace of adam."
   ]
  },
  {
   "cell_type": "code",
   "execution_count": 59,
   "metadata": {
    "id": "EoLqR67Q0uGz"
   },
   "outputs": [],
   "source": [
    "# Early stopping - what it means that, when the accuracy not at all increasing automatically the training of the model is stopped.\n",
    "import tensorflow as tf\n",
    "early_stopping=tf.keras.callbacks.EarlyStopping(\n",
    "    monitor=\"val_loss\",\n",
    "    min_delta=0.000,\n",
    "    patience=20,\n",
    "    verbose=1,\n",
    "    mode=\"auto\",\n",
    "    baseline=None,\n",
    "    restore_best_weights=False,\n",
    "    start_from_epoch=0,\n",
    ")"
   ]
  },
  {
   "cell_type": "code",
   "execution_count": 60,
   "metadata": {
    "colab": {
     "base_uri": "https://localhost:8080/"
    },
    "id": "yXi1gIegpq2v",
    "outputId": "fd71ed39-a07c-42f2-a145-ec794c86e43e"
   },
   "outputs": [
    {
     "name": "stdout",
     "output_type": "stream",
     "text": [
      "Epoch 1/1000\n",
      "536/536 [==============================] - 5s 5ms/step - loss: 0.5540 - accuracy: 0.7962 - val_loss: 0.5048 - val_accuracy: 0.7955\n",
      "Epoch 2/1000\n",
      "536/536 [==============================] - 3s 5ms/step - loss: 0.5181 - accuracy: 0.7962 - val_loss: 0.4896 - val_accuracy: 0.7955\n",
      "Epoch 3/1000\n",
      "536/536 [==============================] - 3s 5ms/step - loss: 0.4946 - accuracy: 0.7962 - val_loss: 0.4722 - val_accuracy: 0.7955\n",
      "Epoch 4/1000\n",
      "536/536 [==============================] - 3s 5ms/step - loss: 0.4766 - accuracy: 0.7962 - val_loss: 0.4590 - val_accuracy: 0.7955\n",
      "Epoch 5/1000\n",
      "536/536 [==============================] - 3s 5ms/step - loss: 0.4733 - accuracy: 0.7962 - val_loss: 0.4544 - val_accuracy: 0.7955\n",
      "Epoch 6/1000\n",
      "536/536 [==============================] - 3s 5ms/step - loss: 0.4643 - accuracy: 0.7962 - val_loss: 0.4534 - val_accuracy: 0.7955\n",
      "Epoch 7/1000\n",
      "536/536 [==============================] - 3s 5ms/step - loss: 0.4659 - accuracy: 0.7962 - val_loss: 0.4528 - val_accuracy: 0.7955\n",
      "Epoch 8/1000\n",
      "536/536 [==============================] - 3s 5ms/step - loss: 0.4633 - accuracy: 0.7962 - val_loss: 0.4570 - val_accuracy: 0.7955\n",
      "Epoch 9/1000\n",
      "536/536 [==============================] - 3s 5ms/step - loss: 0.4660 - accuracy: 0.7962 - val_loss: 0.4519 - val_accuracy: 0.7955\n",
      "Epoch 10/1000\n",
      "536/536 [==============================] - 3s 5ms/step - loss: 0.4566 - accuracy: 0.7962 - val_loss: 0.4533 - val_accuracy: 0.7955\n",
      "Epoch 11/1000\n",
      "536/536 [==============================] - 3s 5ms/step - loss: 0.4588 - accuracy: 0.7962 - val_loss: 0.4514 - val_accuracy: 0.7955\n",
      "Epoch 12/1000\n",
      "536/536 [==============================] - 3s 5ms/step - loss: 0.4551 - accuracy: 0.7962 - val_loss: 0.4494 - val_accuracy: 0.7955\n",
      "Epoch 13/1000\n",
      "536/536 [==============================] - 3s 5ms/step - loss: 0.4564 - accuracy: 0.7962 - val_loss: 0.4492 - val_accuracy: 0.7955\n",
      "Epoch 14/1000\n",
      "536/536 [==============================] - 3s 5ms/step - loss: 0.4504 - accuracy: 0.7962 - val_loss: 0.4547 - val_accuracy: 0.7955\n",
      "Epoch 15/1000\n",
      "536/536 [==============================] - 3s 5ms/step - loss: 0.4553 - accuracy: 0.7962 - val_loss: 0.4488 - val_accuracy: 0.7955\n",
      "Epoch 16/1000\n",
      "536/536 [==============================] - 3s 5ms/step - loss: 0.4523 - accuracy: 0.7962 - val_loss: 0.4487 - val_accuracy: 0.7955\n",
      "Epoch 17/1000\n",
      "536/536 [==============================] - 4s 7ms/step - loss: 0.4544 - accuracy: 0.7962 - val_loss: 0.4489 - val_accuracy: 0.7955\n",
      "Epoch 18/1000\n",
      "536/536 [==============================] - 3s 5ms/step - loss: 0.4562 - accuracy: 0.7962 - val_loss: 0.4482 - val_accuracy: 0.7955\n",
      "Epoch 19/1000\n",
      "536/536 [==============================] - 3s 5ms/step - loss: 0.4493 - accuracy: 0.7962 - val_loss: 0.4479 - val_accuracy: 0.7955\n",
      "Epoch 20/1000\n",
      "536/536 [==============================] - 3s 5ms/step - loss: 0.4500 - accuracy: 0.7962 - val_loss: 0.4497 - val_accuracy: 0.7955\n",
      "Epoch 21/1000\n",
      "536/536 [==============================] - 3s 5ms/step - loss: 0.4510 - accuracy: 0.7962 - val_loss: 0.4515 - val_accuracy: 0.7955\n",
      "Epoch 22/1000\n",
      "536/536 [==============================] - 2s 5ms/step - loss: 0.4499 - accuracy: 0.7962 - val_loss: 0.4476 - val_accuracy: 0.7955\n",
      "Epoch 23/1000\n",
      "536/536 [==============================] - 2s 5ms/step - loss: 0.4515 - accuracy: 0.7962 - val_loss: 0.4473 - val_accuracy: 0.7955\n",
      "Epoch 24/1000\n",
      "536/536 [==============================] - 2s 5ms/step - loss: 0.4469 - accuracy: 0.7962 - val_loss: 0.4462 - val_accuracy: 0.7955\n",
      "Epoch 25/1000\n",
      "536/536 [==============================] - 2s 5ms/step - loss: 0.4498 - accuracy: 0.7962 - val_loss: 0.4462 - val_accuracy: 0.7955\n",
      "Epoch 26/1000\n",
      "536/536 [==============================] - 2s 5ms/step - loss: 0.4487 - accuracy: 0.7962 - val_loss: 0.4466 - val_accuracy: 0.7955\n",
      "Epoch 27/1000\n",
      "536/536 [==============================] - 2s 5ms/step - loss: 0.4478 - accuracy: 0.7962 - val_loss: 0.4458 - val_accuracy: 0.7955\n",
      "Epoch 28/1000\n",
      "536/536 [==============================] - 3s 5ms/step - loss: 0.4508 - accuracy: 0.7962 - val_loss: 0.4458 - val_accuracy: 0.7955\n",
      "Epoch 29/1000\n",
      "536/536 [==============================] - 3s 5ms/step - loss: 0.4479 - accuracy: 0.7962 - val_loss: 0.4466 - val_accuracy: 0.7955\n",
      "Epoch 30/1000\n",
      "536/536 [==============================] - 3s 5ms/step - loss: 0.4468 - accuracy: 0.7962 - val_loss: 0.4457 - val_accuracy: 0.7955\n",
      "Epoch 31/1000\n",
      "536/536 [==============================] - 3s 5ms/step - loss: 0.4474 - accuracy: 0.7962 - val_loss: 0.4458 - val_accuracy: 0.7955\n",
      "Epoch 32/1000\n",
      "536/536 [==============================] - 3s 5ms/step - loss: 0.4506 - accuracy: 0.7962 - val_loss: 0.4463 - val_accuracy: 0.7955\n",
      "Epoch 33/1000\n",
      "536/536 [==============================] - 3s 5ms/step - loss: 0.4456 - accuracy: 0.7962 - val_loss: 0.4466 - val_accuracy: 0.7955\n",
      "Epoch 34/1000\n",
      "536/536 [==============================] - 3s 5ms/step - loss: 0.4429 - accuracy: 0.7962 - val_loss: 0.4452 - val_accuracy: 0.7955\n",
      "Epoch 35/1000\n",
      "536/536 [==============================] - 3s 5ms/step - loss: 0.4480 - accuracy: 0.7962 - val_loss: 0.4463 - val_accuracy: 0.7955\n",
      "Epoch 36/1000\n",
      "536/536 [==============================] - 3s 5ms/step - loss: 0.4446 - accuracy: 0.7962 - val_loss: 0.4488 - val_accuracy: 0.7955\n",
      "Epoch 37/1000\n",
      "536/536 [==============================] - 3s 5ms/step - loss: 0.4411 - accuracy: 0.7962 - val_loss: 0.4468 - val_accuracy: 0.7955\n",
      "Epoch 38/1000\n",
      "536/536 [==============================] - 3s 5ms/step - loss: 0.4445 - accuracy: 0.7962 - val_loss: 0.4509 - val_accuracy: 0.7955\n",
      "Epoch 39/1000\n",
      "536/536 [==============================] - 3s 5ms/step - loss: 0.4422 - accuracy: 0.7962 - val_loss: 0.4483 - val_accuracy: 0.7955\n",
      "Epoch 40/1000\n",
      "536/536 [==============================] - 3s 5ms/step - loss: 0.4483 - accuracy: 0.7962 - val_loss: 0.4487 - val_accuracy: 0.7955\n",
      "Epoch 41/1000\n",
      "536/536 [==============================] - 3s 5ms/step - loss: 0.4424 - accuracy: 0.7962 - val_loss: 0.4473 - val_accuracy: 0.7955\n",
      "Epoch 42/1000\n",
      "536/536 [==============================] - 3s 5ms/step - loss: 0.4408 - accuracy: 0.7962 - val_loss: 0.4468 - val_accuracy: 0.7955\n",
      "Epoch 43/1000\n",
      "536/536 [==============================] - 3s 5ms/step - loss: 0.4413 - accuracy: 0.7962 - val_loss: 0.4457 - val_accuracy: 0.7955\n",
      "Epoch 44/1000\n",
      "536/536 [==============================] - 3s 5ms/step - loss: 0.4466 - accuracy: 0.7962 - val_loss: 0.4485 - val_accuracy: 0.7955\n",
      "Epoch 45/1000\n",
      "536/536 [==============================] - 3s 5ms/step - loss: 0.4437 - accuracy: 0.7962 - val_loss: 0.4462 - val_accuracy: 0.7955\n",
      "Epoch 46/1000\n",
      "536/536 [==============================] - 3s 5ms/step - loss: 0.4384 - accuracy: 0.7962 - val_loss: 0.4463 - val_accuracy: 0.7955\n",
      "Epoch 47/1000\n",
      "536/536 [==============================] - 3s 5ms/step - loss: 0.4430 - accuracy: 0.7962 - val_loss: 0.4468 - val_accuracy: 0.7955\n",
      "Epoch 48/1000\n",
      "536/536 [==============================] - 2s 5ms/step - loss: 0.4387 - accuracy: 0.7962 - val_loss: 0.4473 - val_accuracy: 0.7955\n",
      "Epoch 49/1000\n",
      "536/536 [==============================] - 3s 5ms/step - loss: 0.4421 - accuracy: 0.7962 - val_loss: 0.4468 - val_accuracy: 0.7955\n",
      "Epoch 50/1000\n",
      "536/536 [==============================] - 3s 5ms/step - loss: 0.4393 - accuracy: 0.7962 - val_loss: 0.4458 - val_accuracy: 0.7955\n",
      "Epoch 51/1000\n",
      "536/536 [==============================] - 3s 5ms/step - loss: 0.4441 - accuracy: 0.7962 - val_loss: 0.4477 - val_accuracy: 0.7955\n",
      "Epoch 52/1000\n",
      "536/536 [==============================] - 3s 5ms/step - loss: 0.4399 - accuracy: 0.7962 - val_loss: 0.4467 - val_accuracy: 0.7955\n",
      "Epoch 53/1000\n",
      "536/536 [==============================] - 3s 5ms/step - loss: 0.4403 - accuracy: 0.7962 - val_loss: 0.4471 - val_accuracy: 0.7955\n",
      "Epoch 54/1000\n",
      "536/536 [==============================] - 3s 5ms/step - loss: 0.4439 - accuracy: 0.7962 - val_loss: 0.4490 - val_accuracy: 0.7955\n",
      "Epoch 54: early stopping\n"
     ]
    }
   ],
   "source": [
    "# lets train the model \n",
    "\n",
    "model_history=classifier.fit(X_train,y_train,validation_split=0.33,batch_size=10,epochs=1000, callbacks=early_stopping)"
   ]
  },
  {
   "cell_type": "code",
   "execution_count": 61,
   "metadata": {
    "id": "nyj__XwWq3LK"
   },
   "outputs": [],
   "source": [
    "# We are running the model for thousand epochs which is huge. So what number should we set the number of epochs? the answer of this question is we use \n",
    "# early stopping."
   ]
  },
  {
   "cell_type": "code",
   "execution_count": 62,
   "metadata": {
    "colab": {
     "base_uri": "https://localhost:8080/"
    },
    "id": "PlOMjXd8xPHi",
    "outputId": "802c6b45-6000-4415-c267-74305f0f56b0"
   },
   "outputs": [
    {
     "data": {
      "text/plain": [
       "dict_keys(['loss', 'accuracy', 'val_loss', 'val_accuracy'])"
      ]
     },
     "execution_count": 62,
     "metadata": {},
     "output_type": "execute_result"
    }
   ],
   "source": [
    "model_history.history.keys()"
   ]
  },
  {
   "cell_type": "code",
   "execution_count": 63,
   "metadata": {
    "colab": {
     "base_uri": "https://localhost:8080/",
     "height": 295
    },
    "id": "rdP5tkoT17tW",
    "outputId": "197f409c-a42f-4196-fa95-07ea1c969024"
   },
   "outputs": [
    {
     "data": {
      "image/png": "[encoded data removed]",
      "text/plain": [
       "<Figure size 432x288 with 1 Axes>"
      ]
     },
     "metadata": {
      "needs_background": "light"
     },
     "output_type": "display_data"
    }
   ],
   "source": [
    "# summerize history for accuracy\n",
    "plt.plot(model_history.history['accuracy'])\n",
    "plt.plot(model_history.history['val_accuracy'])\n",
    "plt.title('model accuracy')\n",
    "plt.ylabel('accuracy')\n",
    "plt.xlabel('epoch')\n",
    "plt.legend(['train','test'],loc='upper left')\n",
    "plt.show()"
   ]
  },
  {
   "cell_type": "code",
   "execution_count": 64,
   "metadata": {
    "colab": {
     "base_uri": "https://localhost:8080/",
     "height": 295
    },
    "id": "djzfcE8w2zrb",
    "outputId": "f8d3fa3e-2978-43a6-cb64-f9d9448ff7fe"
   },
   "outputs": [
    {
     "data": {
      "image/png": "[encoded data removed]",
      "text/plain": [
       "<Figure size 432x288 with 1 Axes>"
      ]
     },
     "metadata": {
      "needs_background": "light"
     },
     "output_type": "display_data"
    }
   ],
   "source": [
    "# summerize history for loss\n",
    "plt.plot(model_history.history['loss'])\n",
    "plt.plot(model_history.history['val_loss'])\n",
    "plt.title('model loss')\n",
    "plt.ylabel('loss')\n",
    "plt.xlabel('epoch')\n",
    "plt.legend(['train','test'],loc='upper left')\n",
    "plt.show()"
   ]
  },
  {
   "cell_type": "code",
   "execution_count": 65,
   "metadata": {
    "colab": {
     "base_uri": "https://localhost:8080/"
    },
    "id": "dPFwZ6h13W8x",
    "outputId": "e36b6b7f-7fe8-4080-ea71-dfb4ee3e9478"
   },
   "outputs": [
    {
     "name": "stdout",
     "output_type": "stream",
     "text": [
      "63/63 [==============================] - 0s 2ms/step\n"
     ]
    }
   ],
   "source": [
    "# part 3 - Making the prediction and evaluating the model\n",
    "\n",
    "# Predicting the test set result\n",
    "y_pred=classifier.predict(X_test)\n",
    "y_pred= (y_pred >= 0.5)   # whenever the value of y_pred is greater than 0.5 it will take it as class 1"
   ]
  },
  {
   "cell_type": "code",
   "execution_count": 66,
   "metadata": {
    "colab": {
     "base_uri": "https://localhost:8080/"
    },
    "id": "nOW8JmyR4UEO",
    "outputId": "6e03ef9c-357b-4421-ae76-fe306569f396"
   },
   "outputs": [
    {
     "data": {
      "text/plain": [
       "array([[1595,    0],\n",
       "       [ 405,    0]])"
      ]
     },
     "execution_count": 66,
     "metadata": {},
     "output_type": "execute_result"
    }
   ],
   "source": [
    "# Make the confusion matrix\n",
    "\n",
    "from sklearn.metrics import confusion_matrix\n",
    "cm = confusion_matrix(y_test,y_pred)\n",
    "cm"
   ]
  },
  {
   "cell_type": "code",
   "execution_count": 67,
   "metadata": {
    "colab": {
     "base_uri": "https://localhost:8080/"
    },
    "id": "VKAC93Gx40Gh",
    "outputId": "5ee11f29-fc6e-40dc-b633-ef331e852685"
   },
   "outputs": [
    {
     "data": {
      "text/plain": [
       "0.7975"
      ]
     },
     "execution_count": 67,
     "metadata": {},
     "output_type": "execute_result"
    }
   ],
   "source": [
    "# Calculating the accuracy\n",
    "from sklearn.metrics import accuracy_score\n",
    "score=accuracy_score(y_pred,y_test)\n",
    "score"
   ]
  },
  {
   "cell_type": "code",
   "execution_count": 68,
   "metadata": {
    "colab": {
     "base_uri": "https://localhost:8080/"
    },
    "id": "YgSzG2aA6wU2",
    "outputId": "a7cd040e-1e2c-41bb-9267-cad052c0db23"
   },
   "outputs": [
    {
     "data": {
      "text/plain": [
       "[array([[ 0.5388994 , -0.24171658, -0.30491835, -0.01757616,  0.7292218 ,\n",
       "         -0.09106487,  0.22873396,  0.00972711,  0.26985458,  0.45057806,\n",
       "          0.24792242],\n",
       "        [-0.2815293 , -1.1224331 ,  0.24114002,  0.10556158, -0.05876686,\n",
       "          1.8613304 ,  0.24471237,  0.8266766 , -0.05008478,  0.42845288,\n",
       "         -0.06348708],\n",
       "        [-0.69550294,  0.11026128, -0.88520867,  0.34396777, -0.18898784,\n",
       "          0.11578385,  0.17456836,  0.05612541, -0.05998382, -0.02490318,\n",
       "          0.03305553],\n",
       "        [ 0.10573359, -0.06281261,  0.5010791 , -0.336068  , -0.75347763,\n",
       "          0.41502583, -0.11998925, -0.314481  ,  0.01941543,  0.56985354,\n",
       "         -0.9066372 ],\n",
       "        [ 0.97967535, -0.2124076 , -0.37050748,  1.4361398 ,  0.64458394,\n",
       "         -0.4156471 ,  0.2680482 , -0.39562023,  0.66656727, -0.60390794,\n",
       "         -1.3471516 ],\n",
       "        [-0.1908122 , -0.18078366, -0.3090236 ,  0.06047472, -0.5035378 ,\n",
       "         -0.26245332, -0.3556487 ,  0.01188074, -0.0235977 , -0.19974408,\n",
       "         -0.4139164 ],\n",
       "        [ 0.3404404 ,  0.2545766 ,  0.92492265,  0.46583506, -0.31545663,\n",
       "          0.21917672, -0.7358783 , -0.11059406,  0.87405765, -1.0537078 ,\n",
       "         -0.64809483],\n",
       "        [-0.02686293, -0.44328895,  0.46695068, -0.24959424,  0.5355186 ,\n",
       "         -0.11930047,  0.04018002, -0.07147127,  0.13340664, -0.1862631 ,\n",
       "          0.02628373],\n",
       "        [-0.48194253, -0.74639565, -0.5312419 , -0.002548  , -0.18229303,\n",
       "         -0.4016508 ,  0.27084315,  0.17836355,  0.15539159, -0.7003344 ,\n",
       "          0.43111962],\n",
       "        [-0.6343936 , -0.41014603, -0.7589457 ,  0.01943922,  0.26657164,\n",
       "         -0.33000848, -0.01652873,  0.20467438,  0.53765273,  0.00879337,\n",
       "          0.07898583],\n",
       "        [ 0.4151803 ,  0.5128203 ,  0.43240175,  0.09904882, -0.10396878,\n",
       "          0.18723607, -0.09770586,  0.34637475,  0.2912937 ,  0.66094536,\n",
       "          0.4012346 ]], dtype=float32),\n",
       " array([ 0.14482668,  0.7926236 , -0.4368027 ,  0.09646583, -0.5765658 ,\n",
       "        -0.2102669 ,  0.87166184,  0.61577183,  0.6443652 ,  0.28791356,\n",
       "         0.64794624], dtype=float32),\n",
       " array([[-0.57070404,  0.9138788 ,  0.17607005, -0.14001569,  0.5134045 ,\n",
       "          0.11507612,  0.23107623],\n",
       "        [-0.03831441,  0.45592892, -0.56013954,  0.6921115 ,  0.4542353 ,\n",
       "          0.31027994, -0.43187445],\n",
       "        [ 0.97712564, -0.07788675,  0.7415023 , -0.25443214,  0.21439655,\n",
       "          1.1018164 ,  0.32722098],\n",
       "        [ 0.44505903,  0.8827592 ,  0.18090966,  0.04668215,  0.84236026,\n",
       "         -1.422054  , -0.25212005],\n",
       "        [ 0.47096944,  0.17372294,  0.35263747, -0.1889919 ,  0.44027936,\n",
       "         -1.4873075 ,  0.10988128],\n",
       "        [-0.46302366,  0.23247567,  1.0254419 ,  0.44722772,  0.29898903,\n",
       "          0.05712518, -0.34617293],\n",
       "        [-0.08388846,  0.3269537 ,  0.5594445 ,  0.18696289, -0.4586544 ,\n",
       "         -0.46860737,  0.9919928 ],\n",
       "        [ 0.21270983, -0.18775837,  0.43131024,  0.1966252 , -0.7205532 ,\n",
       "          0.18273869,  0.19536866],\n",
       "        [-0.21002279,  0.4455719 , -0.529586  ,  0.72916263,  0.7694515 ,\n",
       "         -0.38757455,  0.28675368],\n",
       "        [-0.9838872 , -0.8798116 ,  0.37567604,  0.19531485,  0.7421337 ,\n",
       "         -0.6309855 ,  0.1318073 ],\n",
       "        [-0.27949435, -0.9243646 , -0.42407578, -0.8341635 , -0.05496609,\n",
       "          0.57227093, -1.6888438 ]], dtype=float32),\n",
       " array([ 0.18663087,  0.15023647, -0.465379  ,  0.28776523,  0.1131232 ,\n",
       "        -0.25637475, -0.3299539 ], dtype=float32),\n",
       " array([[-0.45634067,  0.7610703 ,  0.42678174,  0.1806744 ,  0.09153622,\n",
       "          0.2356743 ],\n",
       "        [ 0.95276034, -1.5013589 , -1.1219149 , -1.2394521 ,  1.2669221 ,\n",
       "          1.27416   ],\n",
       "        [-0.8423574 ,  0.5644432 ,  1.0548261 , -0.72041947, -0.4010917 ,\n",
       "         -0.17011927],\n",
       "        [-0.62023664,  0.22396122,  0.3738161 ,  0.37807024,  0.3848549 ,\n",
       "         -0.17994145],\n",
       "        [-0.12464009, -0.2317393 , -0.42633042, -0.6239699 ,  0.5770267 ,\n",
       "          1.0234439 ],\n",
       "        [ 0.26034424,  0.18693471, -0.6542458 , -1.8763365 , -0.23649327,\n",
       "         -0.44631997],\n",
       "        [ 0.9634879 ,  0.24531668,  0.4543748 , -0.8171208 , -0.44272706,\n",
       "         -1.7063752 ]], dtype=float32),\n",
       " array([0.56571245, 0.46804094, 0.29838678, 0.80234635, 0.13740301,\n",
       "        0.0356065 ], dtype=float32),\n",
       " array([[ 0.8684849 ],\n",
       "        [-1.0288007 ],\n",
       "        [-0.8813336 ],\n",
       "        [-1.9214439 ],\n",
       "        [ 0.89757025],\n",
       "        [ 1.3809967 ]], dtype=float32),\n",
       " array([-0.15739588], dtype=float32),\n",
       " array([[ 0.34131587,  0.09103485,  0.4316384 ,  0.5218874 ,  0.34504992,\n",
       "          0.49208617, -0.57227945]], dtype=float32),\n",
       " array([-0.06666387, -0.09321708, -0.09388275, -0.07397645, -0.06553602,\n",
       "        -0.06031336,  0.        ], dtype=float32),\n",
       " array([[ 0.42636722, -0.41782078,  1.0459068 ,  0.41138956,  0.9203307 ,\n",
       "         -0.61038053],\n",
       "        [ 0.52404165,  0.14566517, -0.5247722 , -0.57337034,  0.01836938,\n",
       "          0.40080518],\n",
       "        [ 0.83798826, -0.20873815,  0.03701758,  0.5114283 ,  0.50139177,\n",
       "         -0.3623419 ],\n",
       "        [ 0.6234974 , -0.20642634,  0.16892914,  0.42267585,  0.51540256,\n",
       "         -0.303521  ],\n",
       "        [ 0.47396937, -0.10850439,  0.98952264,  0.12124743, -0.08888043,\n",
       "         -0.14497027],\n",
       "        [-0.17626452, -0.25129706, -0.2675619 ,  0.13235526,  0.34706888,\n",
       "          1.3444767 ],\n",
       "        [-0.66442144, -0.6064181 , -0.12480175,  0.22150058, -0.2980096 ,\n",
       "          0.43248808]], dtype=float32),\n",
       " array([-0.00280267, -0.00228821, -0.00213543, -0.00715901,  0.00080225,\n",
       "        -0.01589613], dtype=float32),\n",
       " array([[-0.5607784 ],\n",
       "        [-0.43520966],\n",
       "        [-0.7357023 ],\n",
       "        [-0.6728737 ],\n",
       "        [-0.5710306 ],\n",
       "        [-1.52751   ]], dtype=float32),\n",
       " array([-0.21681295], dtype=float32)]"
      ]
     },
     "execution_count": 68,
     "metadata": {},
     "output_type": "execute_result"
    }
   ],
   "source": [
    "# get the weights and these weights can be stored in a pickle also\n",
    "classifier.get_weights()"
   ]
  },
  {
   "cell_type": "code",
   "execution_count": null,
   "metadata": {
    "id": "iK0hMXOm7KhT"
   },
   "outputs": [],
   "source": []
  }
 ],
 "metadata": {
  "accelerator": "GPU",
  "colab": {
   "provenance": []
  },
  "gpuClass": "standard",
  "kernelspec": {
   "display_name": "Python 3 (ipykernel)",
   "language": "python",
   "name": "python3"
  },
  "language_info": {
   "codemirror_mode": {
    "name": "ipython",
    "version": 3
   },
   "file_extension": ".py",
   "mimetype": "text/x-python",
   "name": "python",
   "nbconvert_exporter": "python",
   "pygments_lexer": "ipython3",
   "version": "3.9.12"
  }
 },
 "nbformat": 4,
 "nbformat_minor": 1
}
